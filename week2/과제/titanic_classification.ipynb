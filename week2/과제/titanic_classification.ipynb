{
 "cells": [
  {
   "cell_type": "code",
   "execution_count": 22,
   "id": "0286c4f9",
   "metadata": {},
   "outputs": [],
   "source": [
    "import numpy as np\n",
    "import pandas as pd\n",
    "import seaborn as sns\n",
    "import matplotlib.pyplot as plt\n",
    "from sklearn.preprocessing import LabelEncoder\n",
    "\n",
    "from sklearn.model_selection import train_test_split\n",
    "from sklearn.ensemble import RandomForestClassifier\n",
    "from sklearn.tree import DecisionTreeClassifier\n",
    "from sklearn.svm import SVC\n",
    "from sklearn.linear_model import LogisticRegression\n",
    "from sklearn.neighbors import KNeighborsClassifier\n",
    "from sklearn.metrics import accuracy_score, confusion_matrix"
   ]
  },
  {
   "cell_type": "code",
   "execution_count": 23,
   "id": "02220611",
   "metadata": {},
   "outputs": [],
   "source": [
    "# 데이터 로딩\n",
    "url = \"https://raw.githubusercontent.com/MyungKyuYi/AI-class/main/titanic.csv\"\n",
    "df = pd.read_csv(url)"
   ]
  },
  {
   "cell_type": "code",
   "execution_count": 24,
   "id": "4b662b36",
   "metadata": {},
   "outputs": [
    {
     "name": "stdout",
     "output_type": "stream",
     "text": [
      "데이터 확인 (상위 5개 행 출력):\n",
      "   PassengerId  Survived  Pclass  \\\n",
      "0            1         0       3   \n",
      "1            2         1       1   \n",
      "2            3         1       3   \n",
      "3            4         1       1   \n",
      "4            5         0       3   \n",
      "\n",
      "                                                Name     Sex   Age  SibSp  \\\n",
      "0                            Braund, Mr. Owen Harris    male  22.0      1   \n",
      "1  Cumings, Mrs. John Bradley (Florence Briggs Th...  female  38.0      1   \n",
      "2                             Heikkinen, Miss. Laina  female  26.0      0   \n",
      "3       Futrelle, Mrs. Jacques Heath (Lily May Peel)  female  35.0      1   \n",
      "4                           Allen, Mr. William Henry    male  35.0      0   \n",
      "\n",
      "   Parch            Ticket     Fare Cabin Embarked  \n",
      "0      0         A/5 21171   7.2500   NaN        S  \n",
      "1      0          PC 17599  71.2833   C85        C  \n",
      "2      0  STON/O2. 3101282   7.9250   NaN        S  \n",
      "3      0            113803  53.1000  C123        S  \n",
      "4      0            373450   8.0500   NaN        S  \n",
      "\n",
      "열 이름 확인:\n",
      "Index(['PassengerId', 'Survived', 'Pclass', 'Name', 'Sex', 'Age', 'SibSp',\n",
      "       'Parch', 'Ticket', 'Fare', 'Cabin', 'Embarked'],\n",
      "      dtype='object')\n"
     ]
    }
   ],
   "source": [
    "# 데이터 확인\n",
    "print(\"데이터 확인 (상위 5개 행 출력):\")\n",
    "print(df.head())  \n",
    "print(\"\\n열 이름 확인:\")\n",
    "print(df.columns)"
   ]
  },
  {
   "cell_type": "code",
   "execution_count": 25,
   "id": "38bc0c44",
   "metadata": {},
   "outputs": [
    {
     "name": "stdout",
     "output_type": "stream",
     "text": [
      "\n",
      "결측치 확인 (변경 전):\n",
      "PassengerId      0\n",
      "Survived         0\n",
      "Pclass           0\n",
      "Name             0\n",
      "Sex              0\n",
      "Age            177\n",
      "SibSp            0\n",
      "Parch            0\n",
      "Ticket           0\n",
      "Fare             0\n",
      "Cabin          687\n",
      "Embarked         2\n",
      "dtype: int64\n"
     ]
    }
   ],
   "source": [
    "# 결측치 확인 (변경 전)\n",
    "print(\"\\n결측치 확인 (변경 전):\")\n",
    "print(df.isnull().sum()) "
   ]
  },
  {
   "cell_type": "code",
   "execution_count": 26,
   "id": "5ab3b3f7",
   "metadata": {},
   "outputs": [],
   "source": [
    "# 결측치 제거\n",
    "mean_age = df['Age'].mean() # Age 컬럼의 평균값 계산 (결측치를 제외한 값으로 계산)\n",
    "df['Age'] = df['Age'].fillna(mean_age) # Age 컬럼의 결측치를 평균값으로 채우기"
   ]
  },
  {
   "cell_type": "code",
   "execution_count": 27,
   "id": "b0099668",
   "metadata": {},
   "outputs": [
    {
     "name": "stdout",
     "output_type": "stream",
     "text": [
      "\n",
      "결측치 확인 (변경 후):\n",
      "PassengerId      0\n",
      "Survived         0\n",
      "Pclass           0\n",
      "Name             0\n",
      "Sex              0\n",
      "Age              0\n",
      "SibSp            0\n",
      "Parch            0\n",
      "Ticket           0\n",
      "Fare             0\n",
      "Cabin          687\n",
      "Embarked         2\n",
      "dtype: int64\n"
     ]
    }
   ],
   "source": [
    "# 결측치 확인 (Age 컬럼 변경 후)\n",
    "print(\"\\n결측치 확인 (변경 후):\")\n",
    "print(df.isnull().sum()) "
   ]
  },
  {
   "cell_type": "code",
   "execution_count": 28,
   "id": "e088b731",
   "metadata": {},
   "outputs": [
    {
     "name": "stdout",
     "output_type": "stream",
     "text": [
      "\n",
      "imbalanced data 확인:\n"
     ]
    },
    {
     "data": {
      "image/png": "[encoded data removed]",
      "text/plain": [
       "<Figure size 600x400 with 1 Axes>"
      ]
     },
     "metadata": {},
     "output_type": "display_data"
    }
   ],
   "source": [
    "# 레이블 개수 확인(imbalanced data) - 그래프\n",
    "print(\"\\nimbalanced data 확인:\")\n",
    "plt.figure(figsize=(6, 4))  # 그래프 크기 설정\n",
    "\n",
    "sns.countplot(data = df, x=\"Survived\")\n",
    "plt.xlabel(\"Survived or Not\")\n",
    "plt.ylabel(\"Count\")\n",
    "plt.title(\"Survived\")\n",
    "plt.show()"
   ]
  },
  {
   "cell_type": "code",
   "execution_count": 29,
   "id": "1f83e596",
   "metadata": {},
   "outputs": [
    {
     "name": "stdout",
     "output_type": "stream",
     "text": [
      "\n",
      "레이블 개수 확인:\n",
      "0    549\n",
      "1    342\n",
      "Name: Survived, dtype: int64\n",
      "\n",
      "==================\n",
      "male      577\n",
      "female    314\n",
      "Name: Sex, dtype: int64\n",
      "\n",
      "==================\n",
      "S    644\n",
      "C    168\n",
      "Q     77\n",
      "Name: Embarked, dtype: int64\n"
     ]
    }
   ],
   "source": [
    "# 레이블 개수 확인(imbalanced data) - 숫자\n",
    "print(\"\\n레이블 개수 확인:\")\n",
    "print(df['Survived'].value_counts())\n",
    "print(\"\\n==================\")\n",
    "print(df['Sex'].value_counts())\n",
    "print(\"\\n==================\")\n",
    "print(df['Embarked'].value_counts())"
   ]
  },
  {
   "cell_type": "code",
   "execution_count": 30,
   "id": "d49b61a0",
   "metadata": {},
   "outputs": [
    {
     "name": "stdout",
     "output_type": "stream",
     "text": [
      "\n",
      "불필요한 컬럼 제거 후:\n",
      "Index(['PassengerId', 'Survived', 'Pclass', 'Sex', 'Age', 'SibSp', 'Parch',\n",
      "       'Fare', 'Embarked'],\n",
      "      dtype='object')\n"
     ]
    }
   ],
   "source": [
    "# 불필요한 컬럼 제거\n",
    "columns_to_delete = ['Name', 'Ticket', 'Cabin'] # 삭제할 컬럼 리스트\n",
    "df = df.drop(columns=columns_to_delete) # 컬럼 삭제\n",
    "\n",
    "print(\"\\n불필요한 컬럼 제거 후:\")\n",
    "print(df.columns) # 컬럼 삭제 확인"
   ]
  },
  {
   "cell_type": "code",
   "execution_count": 31,
   "id": "3a126846",
   "metadata": {},
   "outputs": [
    {
     "name": "stdout",
     "output_type": "stream",
     "text": [
      "\n",
      "문자를 인코딩 후:\n",
      "     PassengerId  Survived  Pclass  Sex        Age  SibSp  Parch     Fare  \\\n",
      "0              1         0       3    1  22.000000      1      0   7.2500   \n",
      "1              2         1       1    0  38.000000      1      0  71.2833   \n",
      "2              3         1       3    0  26.000000      0      0   7.9250   \n",
      "3              4         1       1    0  35.000000      1      0  53.1000   \n",
      "4              5         0       3    1  35.000000      0      0   8.0500   \n",
      "..           ...       ...     ...  ...        ...    ...    ...      ...   \n",
      "886          887         0       2    1  27.000000      0      0  13.0000   \n",
      "887          888         1       1    0  19.000000      0      0  30.0000   \n",
      "888          889         0       3    0  29.699118      1      2  23.4500   \n",
      "889          890         1       1    1  26.000000      0      0  30.0000   \n",
      "890          891         0       3    1  32.000000      0      0   7.7500   \n",
      "\n",
      "     Embarked  \n",
      "0           2  \n",
      "1           0  \n",
      "2           2  \n",
      "3           2  \n",
      "4           2  \n",
      "..        ...  \n",
      "886         2  \n",
      "887         2  \n",
      "888         2  \n",
      "889         0  \n",
      "890         1  \n",
      "\n",
      "[891 rows x 9 columns]\n"
     ]
    }
   ],
   "source": [
    "# 인코딩(숫자)\n",
    "print(\"\\n문자를 인코딩 후:\")\n",
    "label_encoder = LabelEncoder() # LabelEncoder 초기화\n",
    "columns_to_encode = ['Sex', 'Embarked']  # 인코딩할 컬럼 리스트\n",
    "for column in columns_to_encode:\n",
    "    df[column] = label_encoder.fit_transform(df[column])\n",
    "print(df)"
   ]
  },
  {
   "cell_type": "code",
   "execution_count": 32,
   "id": "66999304",
   "metadata": {},
   "outputs": [
    {
     "name": "stdout",
     "output_type": "stream",
     "text": [
      "\n",
      "인코딩 후 컬럼 데이터 확인:\n",
      "1    577\n",
      "0    314\n",
      "Name: Sex, dtype: int64\n",
      "\n",
      "==================\n",
      "2    644\n",
      "0    168\n",
      "1     77\n",
      "3      2\n",
      "Name: Embarked, dtype: int64\n"
     ]
    }
   ],
   "source": [
    "# 인코딩 변환 전/후 확인하여 인코딩이 어떻게 되었는지 확인\n",
    "print(\"\\n인코딩 후 컬럼 데이터 확인:\")\n",
    "print(df['Sex'].value_counts())  # male:1, female:0\n",
    "print(\"\\n==================\")\n",
    "print(df['Embarked'].value_counts()) # S:2, C:0, Q:1, NaN:3"
   ]
  },
  {
   "cell_type": "code",
   "execution_count": 33,
   "id": "7547c7b2",
   "metadata": {},
   "outputs": [
    {
     "name": "stdout",
     "output_type": "stream",
     "text": [
      "\n",
      "5가지 분류 (RF, DT, LR, SVM, KNN) 하고, accuracy 및 confusion matrix 확인\n"
     ]
    }
   ],
   "source": [
    "print(\"\\n5가지 분류 (RF, DT, LR, SVM, KNN) 하고, accuracy 및 confusion matrix 확인\")\n",
    "\n",
    "# 입력(X)과 출력(y) 분리\n",
    "X = df.drop(columns=['Survived'])  #df에서 'Survived' 컬럼을 제외한 나머지 컬럼들을 X에 저장\n",
    "y = df['Survived']   #df에서 'Survived' 컬럼만 가져와서 y에 저장\n",
    "\n",
    "# 데이터 분할 (훈련 80%, 테스트 20%)\n",
    "X_train, X_test, y_train, y_test = train_test_split(X, y, test_size=0.2, random_state=42)"
   ]
  },
  {
   "cell_type": "code",
   "execution_count": 34,
   "id": "b6f04149",
   "metadata": {},
   "outputs": [
    {
     "name": "stdout",
     "output_type": "stream",
     "text": [
      "\n",
      "--- Random Forest Classifier ---\n",
      "Accuracy: 0.8101\n",
      "Confusion Matrix:\n",
      "[[91 14]\n",
      " [20 54]]\n"
     ]
    }
   ],
   "source": [
    "# 1. 랜덤 포레스트 (Random Forest)\n",
    "rf_model = RandomForestClassifier(n_estimators=100, random_state=42)  # 모델 생성 (100개의 트리 사용)\n",
    "rf_model.fit(X_train, y_train)  # 학습\n",
    "rf_pred = rf_model.predict(X_test)  # 예측\n",
    "print(\"\\n--- Random Forest Classifier ---\")\n",
    "print(f\"Accuracy: {accuracy_score(y_test, rf_pred):.4f}\")  # 정확도 출력\n",
    "print(\"Confusion Matrix:\")\n",
    "print(confusion_matrix(y_test, rf_pred))  # 혼동 행렬 출력"
   ]
  },
  {
   "cell_type": "code",
   "execution_count": 35,
   "id": "58dacdc1",
   "metadata": {},
   "outputs": [
    {
     "name": "stdout",
     "output_type": "stream",
     "text": [
      "\n",
      "--- Decision Tree Classifier ---\n",
      "Accuracy: 0.7598\n",
      "Confusion Matrix:\n",
      "[[84 21]\n",
      " [22 52]]\n"
     ]
    }
   ],
   "source": [
    "# 2. 의사결정 나무 (Decision Tree)\n",
    "dt_model = DecisionTreeClassifier(random_state=42)  \n",
    "dt_model.fit(X_train, y_train)  # 학습\n",
    "dt_pred = dt_model.predict(X_test)  # 예측\n",
    "print(\"\\n--- Decision Tree Classifier ---\")\n",
    "print(f\"Accuracy: {accuracy_score(y_test, dt_pred):.4f}\")  # 정확도 출력\n",
    "print(\"Confusion Matrix:\")\n",
    "print(confusion_matrix(y_test, dt_pred))  # 혼동 행렬 출력"
   ]
  },
  {
   "cell_type": "code",
   "execution_count": 36,
   "id": "e334dd36",
   "metadata": {},
   "outputs": [
    {
     "name": "stdout",
     "output_type": "stream",
     "text": [
      "\n",
      "--- Logistic Regression Classifier ---\n",
      "Accuracy: 0.8101\n",
      "Confusion Matrix:\n",
      "[[90 15]\n",
      " [19 55]]\n"
     ]
    }
   ],
   "source": [
    "# 3. 로지스틱 회귀 (Logistic Regression)\n",
    "lr_model = LogisticRegression(max_iter=200, random_state=42)  # 학습 횟수 200회 설정\n",
    "lr_model.fit(X_train, y_train)  # 학습\n",
    "lr_pred = lr_model.predict(X_test)  # 예측\n",
    "print(\"\\n--- Logistic Regression Classifier ---\")\n",
    "print(f\"Accuracy: {accuracy_score(y_test, lr_pred):.4f}\")  # 정확도 출력\n",
    "print(\"Confusion Matrix:\")\n",
    "print(confusion_matrix(y_test, lr_pred))  # 혼동 행렬 출력"
   ]
  },
  {
   "cell_type": "code",
   "execution_count": 37,
   "id": "041cb5c4",
   "metadata": {},
   "outputs": [
    {
     "name": "stdout",
     "output_type": "stream",
     "text": [
      "\n",
      "--- SVM Classifier ---\n",
      "Accuracy: 0.7821\n",
      "Confusion Matrix:\n",
      "[[88 17]\n",
      " [22 52]]\n"
     ]
    }
   ],
   "source": [
    "# 4. 서포트 벡터 머신 (SVM)\n",
    "svm_model = SVC(kernel='linear', random_state=42)  # 선형 커널 SVM 모델 생성\n",
    "svm_model.fit(X_train, y_train)  # 학습\n",
    "svm_pred = svm_model.predict(X_test)  # 예측\n",
    "print(\"\\n--- SVM Classifier ---\")\n",
    "print(f\"Accuracy: {accuracy_score(y_test, svm_pred):.4f}\")  # 정확도 출력\n",
    "print(\"Confusion Matrix:\")\n",
    "print(confusion_matrix(y_test, svm_pred))  # 혼동 행렬 출력"
   ]
  },
  {
   "cell_type": "code",
   "execution_count": 38,
   "id": "7f35e951",
   "metadata": {},
   "outputs": [
    {
     "name": "stdout",
     "output_type": "stream",
     "text": [
      "\n",
      "--- K-Nearest Neighbors Classifier ---\n",
      "Accuracy: 0.6592\n",
      "Confusion Matrix:\n",
      "[[89 16]\n",
      " [45 29]]\n"
     ]
    },
    {
     "name": "stderr",
     "output_type": "stream",
     "text": [
      "C:\\Users\\tjdus\\anaconda3\\lib\\site-packages\\sklearn\\neighbors\\_classification.py:228: FutureWarning: Unlike other reduction functions (e.g. `skew`, `kurtosis`), the default behavior of `mode` typically preserves the axis it acts along. In SciPy 1.11.0, this behavior will change: the default value of `keepdims` will become False, the `axis` over which the statistic is taken will be eliminated, and the value None will no longer be accepted. Set `keepdims` to True or False to avoid this warning.\n",
      "  mode, _ = stats.mode(_y[neigh_ind, k], axis=1)\n"
     ]
    }
   ],
   "source": [
    "# 5. 최근접 이웃 (KNN)\n",
    "knn_model = KNeighborsClassifier(n_neighbors=5)  # KNN 모델 생성\n",
    "knn_model.fit(X_train, y_train)  # 학습\n",
    "knn_pred = knn_model.predict(X_test)  # 예측\n",
    "print(\"\\n--- K-Nearest Neighbors Classifier ---\")\n",
    "print(f\"Accuracy: {accuracy_score(y_test, knn_pred):.4f}\")  # 정확도 출력\n",
    "print(\"Confusion Matrix:\")\n",
    "print(confusion_matrix(y_test, knn_pred))  # 혼동 행렬 출력"
   ]
  }
 ],
 "metadata": {
  "kernelspec": {
   "display_name": "Python 3 (ipykernel)",
   "language": "python",
   "name": "python3"
  },
  "language_info": {
   "codemirror_mode": {
    "name": "ipython",
    "version": 3
   },
   "file_extension": ".py",
   "mimetype": "text/x-python",
   "name": "python",
   "nbconvert_exporter": "python",
   "pygments_lexer": "ipython3",
   "version": "3.9.13"
  }
 },
 "nbformat": 4,
 "nbformat_minor": 5
}
