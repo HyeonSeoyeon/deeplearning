{
 "cells": [
  {
   "cell_type": "code",
   "execution_count": 14,
   "id": "e9c87b4a",
   "metadata": {},
   "outputs": [
    {
     "name": "stdout",
     "output_type": "stream",
     "text": [
      "데이터 확인 (상위 5개 행 출력):\n",
      "   battery_power  blue  clock_speed  dual_sim  fc  four_g  int_memory  m_dep  \\\n",
      "0            842     0          2.2         0   1       0           7    0.6   \n",
      "1           1021     1          0.5         1   0       1          53    0.7   \n",
      "2            563     1          0.5         1   2       1          41    0.9   \n",
      "3            615     1          2.5         0   0       0          10    0.8   \n",
      "4           1821     1          1.2         0  13       1          44    0.6   \n",
      "\n",
      "   mobile_wt  n_cores  ...  px_height  px_width   ram  sc_h  sc_w  talk_time  \\\n",
      "0        188        2  ...         20       756  2549     9     7         19   \n",
      "1        136        3  ...        905      1988  2631    17     3          7   \n",
      "2        145        5  ...       1263      1716  2603    11     2          9   \n",
      "3        131        6  ...       1216      1786  2769    16     8         11   \n",
      "4        141        2  ...       1208      1212  1411     8     2         15   \n",
      "\n",
      "   three_g  touch_screen  wifi  price_range  \n",
      "0        0             0     1            1  \n",
      "1        1             1     0            2  \n",
      "2        1             1     0            2  \n",
      "3        1             0     0            2  \n",
      "4        1             1     0            1  \n",
      "\n",
      "[5 rows x 21 columns]\n",
      "\n",
      "열 이름 확인:\n",
      "Index(['battery_power', 'blue', 'clock_speed', 'dual_sim', 'fc', 'four_g',\n",
      "       'int_memory', 'm_dep', 'mobile_wt', 'n_cores', 'pc', 'px_height',\n",
      "       'px_width', 'ram', 'sc_h', 'sc_w', 'talk_time', 'three_g',\n",
      "       'touch_screen', 'wifi', 'price_range'],\n",
      "      dtype='object')\n",
      "\n",
      "--- Decision Tree Classifier ---\n",
      "Accuracy: 0.8325\n",
      "\n",
      "--- Random Forest Classifier ---\n",
      "Accuracy: 0.8925\n",
      "\n",
      "--- SVM Classifier ---\n",
      "Accuracy: 0.9700\n",
      "\n",
      "--- Logistic Regression Classifier ---\n",
      "Accuracy: 0.7625\n"
     ]
    },
    {
     "name": "stderr",
     "output_type": "stream",
     "text": [
      "C:\\Users\\tjdus\\anaconda3\\lib\\site-packages\\sklearn\\linear_model\\_logistic.py:814: ConvergenceWarning: lbfgs failed to converge (status=1):\n",
      "STOP: TOTAL NO. of ITERATIONS REACHED LIMIT.\n",
      "\n",
      "Increase the number of iterations (max_iter) or scale the data as shown in:\n",
      "    https://scikit-learn.org/stable/modules/preprocessing.html\n",
      "Please also refer to the documentation for alternative solver options:\n",
      "    https://scikit-learn.org/stable/modules/linear_model.html#logistic-regression\n",
      "  n_iter_i = _check_optimize_result(\n"
     ]
    }
   ],
   "source": [
    "import pandas as pd\n",
    "from sklearn.model_selection import train_test_split\n",
    "from sklearn.ensemble import RandomForestClassifier\n",
    "from sklearn.tree import DecisionTreeClassifier\n",
    "from sklearn.svm import SVC\n",
    "from sklearn.linear_model import LogisticRegression\n",
    "from sklearn.metrics import accuracy_score\n",
    "\n",
    "# CSV 파일 불러오기\n",
    "file_path = \"D:/mobile.csv\"  \n",
    "df = pd.read_csv(file_path)\n",
    "\n",
    "# 데이터 확인\n",
    "print(\"데이터 확인 (상위 5개 행 출력):\")\n",
    "print(df.head())  # 데이터가 어떻게 생겼는지 확인\n",
    "print(\"\\n열 이름 확인:\")\n",
    "print(df.columns)  # 열(column) 이름 출력\n",
    "\n",
    "# Label Encoding\n",
    "encoder = LabelEncoder()\n",
    "df['price_range'] = encoder.fit_transform(df['price_range'])\n",
    "\n",
    "# 입력(X)과 출력(y) 분리\n",
    "X = df.drop(columns=['price_range'])  \n",
    "y = df['price_range']  \n",
    "\n",
    "# 데이터 분할 (훈련 80%, 테스트 20%)\n",
    "X_train, X_test, y_train, y_test = train_test_split(X, y, test_size=0.2, random_state=42)\n",
    "\n",
    "# 1. 의사결정 나무 (Decision Tree)\n",
    "dt_model = DecisionTreeClassifier(random_state=42)  \n",
    "dt_model.fit(X_train, y_train)  \n",
    "dt_pred = dt_model.predict(X_test) \n",
    "print(\"\\n--- Decision Tree Classifier ---\")\n",
    "print(f\"Accuracy: {accuracy_score(y_test, dt_pred):.4f}\")\n",
    "\n",
    "# 2. 랜덤 포레스트 (Random Forest)\n",
    "rf_model = RandomForestClassifier(n_estimators=100, random_state=42)\n",
    "rf_model.fit(X_train, y_train)  \n",
    "rf_pred = rf_model.predict(X_test)  \n",
    "print(\"\\n--- Random Forest Classifier ---\")\n",
    "print(f\"Accuracy: {accuracy_score(y_test, rf_pred):.4f}\")  \n",
    "\n",
    "# 3. 서포트 벡터 머신 (SVM)\n",
    "svm_model = SVC(kernel='linear', random_state=42)  \n",
    "svm_model.fit(X_train, y_train)\n",
    "svm_pred = svm_model.predict(X_test) \n",
    "print(\"\\n--- SVM Classifier ---\")\n",
    "print(f\"Accuracy: {accuracy_score(y_test, svm_pred):.4f}\")\n",
    "\n",
    "# 4. 로지스틱 회귀 모델 학습(Logistic Regression)\n",
    "lr_model = LogisticRegression(max_iter=5000, random_state=42)\n",
    "lr_model.fit(X_train, y_train)\n",
    "lr_pred = lr_model.predict(X_test)\n",
    "print(\"\\n--- Logistic Regression Classifier ---\")\n",
    "print(f\"Accuracy: {accuracy_score(y_test, lr_pred):.4f}\")                                     "
   ]
  },
  {
   "cell_type": "code",
   "execution_count": 15,
   "id": "b79a5bc6",
   "metadata": {},
   "outputs": [
    {
     "name": "stdout",
     "output_type": "stream",
     "text": [
      "\n",
      "--- Logistic Regression Classifier (Scaled) ---\n",
      "Accuracy: 0.9750\n"
     ]
    }
   ],
   "source": [
    "# LogisticRegression에서 ConvergenceWarning 해결 : 데이터 스케일링\n",
    "\n",
    "from sklearn.preprocessing import StandardScaler\n",
    "\n",
    "scaler = StandardScaler()\n",
    "X_train_scaled = scaler.fit_transform(X_train)\n",
    "X_test_scaled = scaler.transform(X_test)\n",
    "\n",
    "lr_model = LogisticRegression(max_iter=5000, random_state=42)\n",
    "lr_model.fit(X_train_scaled, y_train)\n",
    "lr_pred = lr_model.predict(X_test_scaled)\n",
    "print(\"\\n--- Logistic Regression Classifier (Scaled) ---\")\n",
    "print(f\"Accuracy: {accuracy_score(y_test, lr_pred):.4f}\")"
   ]
  }
 ],
 "metadata": {
  "kernelspec": {
   "display_name": "Python 3 (ipykernel)",
   "language": "python",
   "name": "python3"
  },
  "language_info": {
   "codemirror_mode": {
    "name": "ipython",
    "version": 3
   },
   "file_extension": ".py",
   "mimetype": "text/x-python",
   "name": "python",
   "nbconvert_exporter": "python",
   "pygments_lexer": "ipython3",
   "version": "3.9.13"
  }
 },
 "nbformat": 4,
 "nbformat_minor": 5
}
