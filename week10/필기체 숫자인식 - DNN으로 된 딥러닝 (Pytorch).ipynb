{
 "cells": [
  {
   "cell_type": "code",
   "execution_count": 2,
   "id": "2dd4389f",
   "metadata": {},
   "outputs": [
    {
     "data": {
      "text/plain": [
       "<matplotlib.image.AxesImage at 0x2b4e497b070>"
      ]
     },
     "execution_count": 2,
     "metadata": {},
     "output_type": "execute_result"
    },
    {
     "data": {
      "image/png": "[encoded data removed]",
      "text/plain": [
       "<Figure size 640x480 with 1 Axes>"
      ]
     },
     "metadata": {},
     "output_type": "display_data"
    }
   ],
   "source": [
    "import torch\n",
    "import torch.nn as nn\n",
    "import torch.optim as optim\n",
    "from sklearn.datasets import load_digits\n",
    "from sklearn.model_selection import train_test_split\n",
    "from sklearn.preprocessing import StandardScaler\n",
    "from sklearn.preprocessing import OneHotEncoder\n",
    "import numpy as np\n",
    "import matplotlib.pyplot as plt\n",
    "\n",
    "# 1. 데이터 불러오기\n",
    "digits = load_digits()\n",
    "X = digits.data  # (1797, 64)\n",
    "y = digits.target.reshape(-1, 1)  # (1797, 1)\n",
    "\n",
    "# 이미지 출력\n",
    "plt.imshow(digits.images[0], cmap=plt.cm.gray_r, interpolation='nearest')"
   ]
  },
  {
   "cell_type": "code",
   "execution_count": 3,
   "id": "b9c14286",
   "metadata": {},
   "outputs": [],
   "source": [
    "# 2. 데이터 정규화\n",
    "scaler = StandardScaler()\n",
    "X_scaled = scaler.fit_transform(X)"
   ]
  },
  {
   "cell_type": "code",
   "execution_count": 4,
   "id": "a2eb5a7b",
   "metadata": {},
   "outputs": [
    {
     "data": {
      "text/plain": [
       "((1437, 64), (360, 64), (1437, 1), (360, 1))"
      ]
     },
     "execution_count": 4,
     "metadata": {},
     "output_type": "execute_result"
    }
   ],
   "source": [
    "# 3. train/test 분리\n",
    "X_train, X_test, y_train, y_test = train_test_split(X_scaled, y, test_size=0.2, random_state=42)\n",
    "X_train.shape, X_test.shape, y_train.shape, y_test.shape # 확인"
   ]
  },
  {
   "cell_type": "code",
   "execution_count": 5,
   "id": "d457a93a",
   "metadata": {},
   "outputs": [],
   "source": [
    "# 4. numpy → torch tensor로 변환\n",
    "X_train_tensor = torch.tensor(X_train, dtype=torch.float32)\n",
    "X_test_tensor = torch.tensor(X_test, dtype=torch.float32)\n",
    "y_train_tensor = torch.tensor(y_train.flatten(), dtype=torch.long)\n",
    "y_test_tensor = torch.tensor(y_test.flatten(), dtype=torch.long)"
   ]
  },
  {
   "cell_type": "code",
   "execution_count": 6,
   "id": "bd27814f",
   "metadata": {},
   "outputs": [],
   "source": [
    "# 5. DNN 모델 정의\n",
    "class DNN(nn.Module):\n",
    "    def __init__(self):\n",
    "        super(DNN, self).__init__()\n",
    "        self.fc1 = nn.Linear(64, 128)\n",
    "        self.fc2 = nn.Linear(128, 64)\n",
    "        self.fc3 = nn.Linear(64, 10)\n",
    "\n",
    "    def forward(self, x):\n",
    "        x = torch.relu(self.fc1(x))\n",
    "        x = torch.relu(self.fc2(x))\n",
    "        return self.fc3(x)\n",
    "\n",
    "model = DNN()"
   ]
  },
  {
   "cell_type": "code",
   "execution_count": 7,
   "id": "d159a24e",
   "metadata": {},
   "outputs": [],
   "source": [
    "# 6. 손실함수 & 최적화기\n",
    "criterion = nn.CrossEntropyLoss()\n",
    "optimizer = optim.Adam(model.parameters(), lr=0.001)"
   ]
  },
  {
   "cell_type": "code",
   "execution_count": 8,
   "id": "cd486d73",
   "metadata": {},
   "outputs": [
    {
     "name": "stdout",
     "output_type": "stream",
     "text": [
      "Epoch 1/20, Loss: 2.2912\n",
      "Epoch 2/20, Loss: 2.2622\n",
      "Epoch 3/20, Loss: 2.2334\n",
      "Epoch 4/20, Loss: 2.2044\n",
      "Epoch 5/20, Loss: 2.1752\n",
      "Epoch 6/20, Loss: 2.1453\n",
      "Epoch 7/20, Loss: 2.1146\n",
      "Epoch 8/20, Loss: 2.0830\n",
      "Epoch 9/20, Loss: 2.0501\n",
      "Epoch 10/20, Loss: 2.0161\n",
      "Epoch 11/20, Loss: 1.9807\n",
      "Epoch 12/20, Loss: 1.9439\n",
      "Epoch 13/20, Loss: 1.9056\n",
      "Epoch 14/20, Loss: 1.8659\n",
      "Epoch 15/20, Loss: 1.8245\n",
      "Epoch 16/20, Loss: 1.7816\n",
      "Epoch 17/20, Loss: 1.7371\n",
      "Epoch 18/20, Loss: 1.6911\n",
      "Epoch 19/20, Loss: 1.6435\n",
      "Epoch 20/20, Loss: 1.5946\n"
     ]
    }
   ],
   "source": [
    "# 7. 학습\n",
    "epochs = 20\n",
    "for epoch in range(epochs):\n",
    "    model.train()\n",
    "    outputs = model(X_train_tensor)\n",
    "    loss = criterion(outputs, y_train_tensor)\n",
    "\n",
    "    optimizer.zero_grad()\n",
    "    loss.backward()\n",
    "    optimizer.step()\n",
    "\n",
    "    print(f\"Epoch {epoch+1}/{epochs}, Loss: {loss.item():.4f}\")"
   ]
  },
  {
   "cell_type": "code",
   "execution_count": 9,
   "id": "1ed844f5",
   "metadata": {},
   "outputs": [
    {
     "name": "stdout",
     "output_type": "stream",
     "text": [
      "Test Accuracy: 79.72%\n"
     ]
    }
   ],
   "source": [
    "# 8. 평가\n",
    "model.eval()\n",
    "with torch.no_grad():\n",
    "    y_pred = model(X_test_tensor)\n",
    "    predicted = torch.argmax(y_pred, dim=1)\n",
    "    accuracy = (predicted == y_test_tensor).float().mean()\n",
    "\n",
    "print(f\"Test Accuracy: {accuracy.item() * 100:.2f}%\")"
   ]
  },
  {
   "cell_type": "code",
   "execution_count": 10,
   "id": "a4f8174c",
   "metadata": {},
   "outputs": [
    {
     "name": "stdout",
     "output_type": "stream",
     "text": [
      "Confusion Matrix:\n",
      "\n",
      "[[29  0  0  1  0  0  1  1  0  1]\n",
      " [ 0 22  4  0  0  0  0  0  0  2]\n",
      " [ 0  1 29  2  0  0  0  1  0  0]\n",
      " [ 0  1  1 31  0  0  0  1  0  0]\n",
      " [ 0  0  0  0 45  0  1  0  0  0]\n",
      " [ 0  0  0  1  0 38  1  0  0  7]\n",
      " [ 1  0  0  0  0  0 34  0  0  0]\n",
      " [ 0  0  0  0  0  1  0 33  0  0]\n",
      " [ 0  8  5  2  0  7  0  5  1  2]\n",
      " [ 0  0  0  8  1  1  0  5  0 25]]\n",
      "Classification Report:\n",
      "\n",
      "              precision    recall  f1-score   support\n",
      "\n",
      "           0       0.97      0.88      0.92        33\n",
      "           1       0.69      0.79      0.73        28\n",
      "           2       0.74      0.88      0.81        33\n",
      "           3       0.69      0.91      0.78        34\n",
      "           4       0.98      0.98      0.98        46\n",
      "           5       0.81      0.81      0.81        47\n",
      "           6       0.92      0.97      0.94        35\n",
      "           7       0.72      0.97      0.82        34\n",
      "           8       1.00      0.03      0.06        30\n",
      "           9       0.68      0.62      0.65        40\n",
      "\n",
      "    accuracy                           0.80       360\n",
      "   macro avg       0.82      0.78      0.75       360\n",
      "weighted avg       0.82      0.80      0.77       360\n",
      "\n"
     ]
    }
   ],
   "source": [
    "# 9. 성능 지표와 혼동 행렬 출력\n",
    "from sklearn.metrics import confusion_matrix, classification_report\n",
    "\n",
    "# 예측 결과를 클래스 레이블로 변환\n",
    "y_pred_class = predicted.numpy()  # torch tensor를 numpy array로 변환\n",
    "y_test_class = y_test_tensor.numpy()  # torch tensor를 numpy array로 변환\n",
    "\n",
    "# Confusion Matrix 출력\n",
    "print(\"Confusion Matrix:\\n\")\n",
    "print(confusion_matrix(y_test_class, y_pred_class))\n",
    "\n",
    "# 정확도 및 성능 지표 출력\n",
    "print(\"Classification Report:\\n\")\n",
    "print(classification_report(y_test_class, y_pred_class))"
   ]
  }
 ],
 "metadata": {
  "kernelspec": {
   "display_name": "Python 3 (ipykernel)",
   "language": "python",
   "name": "python3"
  },
  "language_info": {
   "codemirror_mode": {
    "name": "ipython",
    "version": 3
   },
   "file_extension": ".py",
   "mimetype": "text/x-python",
   "name": "python",
   "nbconvert_exporter": "python",
   "pygments_lexer": "ipython3",
   "version": "3.9.13"
  }
 },
 "nbformat": 4,
 "nbformat_minor": 5
}
